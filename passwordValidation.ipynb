{
  "nbformat": 4,
  "nbformat_minor": 0,
  "metadata": {
    "colab": {
      "provenance": [],
      "authorship_tag": "ABX9TyNyvAu87llniLenYjnitErK",
      "include_colab_link": true
    },
    "kernelspec": {
      "name": "python3",
      "display_name": "Python 3"
    },
    "language_info": {
      "name": "python"
    }
  },
  "cells": [
    {
      "cell_type": "markdown",
      "metadata": {
        "id": "view-in-github",
        "colab_type": "text"
      },
      "source": [
        "<a href=\"https://colab.research.google.com/github/RamosER77/passwordValidation/blob/main/passwordValidation.ipynb\" target=\"_parent\"><img src=\"https://colab.research.google.com/assets/colab-badge.svg\" alt=\"Open In Colab\"/></a>"
      ]
    },
    {
      "cell_type": "markdown",
      "source": [
        "This execise teaches you how to validate and enforce security policies\n",
        "Version 1: Check each requirement individually (Show Was Failed)."
      ],
      "metadata": {
        "id": "5NelDkTwOmoV"
      }
    },
    {
      "cell_type": "code",
      "execution_count": null,
      "metadata": {
        "id": "fg5w9UUk3Et_"
      },
      "outputs": [],
      "source": [
        "# Write a Python script that takes a password as input and checks if it meets the following strength criteria:\n",
        "# At least 8 characters\n",
        "# Contains at least one uppercase letter\n",
        "# Contains at least one lowercase letter\n",
        "# Contains at least one number\n",
        "# Contains at least one special character (e.g. !, @, #).\n",
        "\n",
        "def check_password_strength(password):\n",
        "    # Step # 1: Get basic info\n",
        "    length = len(password)\n",
        "\n",
        "    # Step # 2: Check for character types\n",
        "    has_upper = any(c.isupper() for c in password)\n",
        "    has_lower = any(c.islower() for c in password)\n",
        "    has_digit = any(c.isdigit() for c in password)\n",
        "    has_special = any(not c.isalnum() for c in password)\n",
        "\n",
        "    # Step # 3: Count variety\n",
        "    if length < 8:\n",
        "      return \"Password does not pass: Must be at least 8 characters\"\n",
        "    if not has_upper:\n",
        "      return \"Password does not pass : Must contain at least one uppercase letter\"\n",
        "    if not has_lower:\n",
        "      return \"Password does not pass: Must contain at least one lowercase letter\"\n",
        "    if not has_digit:\n",
        "      return \"Password does not pass: Must contain at least one number\"\n",
        "    if not has_special:\n",
        "      return \"Password does not pass: Must contain at least one special character\"\n",
        "\n",
        "    # if we reach here, all checks passed!\n",
        "    return \"Password passes all requirements\"\n"
      ]
    },
    {
      "cell_type": "code",
      "source": [
        "# Quck automated tests\n",
        "print(check_password_strength(\"Test123!\")) # Should pass\n",
        "print(check_password_strength(\"weak\"))   # Should fail\n",
        "print(check_password_strength(\"Mandarin@12\")) # Should pass"
      ],
      "metadata": {
        "colab": {
          "base_uri": "https://localhost:8080/"
        },
        "id": "vRiSD-_EFv42",
        "outputId": "c0d7b063-fff9-4ab9-d26e-ba7392e498de"
      },
      "execution_count": null,
      "outputs": [
        {
          "output_type": "stream",
          "name": "stdout",
          "text": [
            "Password passes all requirements\n",
            "Password does not pass: Must be at least 8 characters\n",
            "Password passes all requirements\n"
          ]
        }
      ]
    },
    {
      "cell_type": "code",
      "source": [
        "# Main program loop\n",
        "# if __name__ == \" __main__ \":\n",
        "while True:\n",
        "  user_password = input(\"Enter a password to check (or 'exit' to quit): \")\n",
        "  if user_password.lower() == 'exit':\n",
        "    break\n",
        "\n",
        "  strength_report = check_password_strength(user_password)\n",
        "  print(strength_report)\n"
      ],
      "metadata": {
        "id": "gL4DJqKl434v",
        "colab": {
          "base_uri": "https://localhost:8080/"
        },
        "outputId": "8a0c7f0a-974e-4532-c1fb-4fc5c91b0010"
      },
      "execution_count": null,
      "outputs": [
        {
          "name": "stdout",
          "output_type": "stream",
          "text": [
            "Enter a password to check (or 'exit' to quit): pandas\n",
            "Password does not pass: Must be at least 8 characters\n",
            "Enter a password to check (or 'exit' to quit): mandarin\n",
            "Password does not pass : Must contain at least one uppercase letter\n",
            "Enter a password to check (or 'exit' to quit): MANDARIN\n",
            "Password does not pass: Must contain at least one lowercase letter\n",
            "Enter a password to check (or 'exit' to quit): Mandarin@\n",
            "Password does not pass: Must contain at least one number\n",
            "Enter a password to check (or 'exit' to quit): Mandarin2\n",
            "Password does not pass: Must contain at least one special character\n",
            "Enter a password to check (or 'exit' to quit): Mandarin23!\n",
            "Password passes all requirements\n",
            "Enter a password to check (or 'exit' to quit): exit\n"
          ]
        }
      ]
    },
    {
      "cell_type": "code",
      "source": [
        "# Test code\n",
        "def check_password_strength(password):\n",
        "  length = len(password)\n",
        "  has_upper = any(c.isupper() for c in password)\n",
        "  has_lower = any(c.islower() for c in password)\n",
        "  has_digit = any(c.isdigit() for c in password)\n",
        "  has_special = any(not c.isalnum() for c in password)\n",
        "\n",
        "  if length < 8:\n",
        "    return \"Password does not pass: Must be at least 8 characters\"\n",
        "  if not has_upper:\n",
        "    return \"Password does not pass: Must contain at least one uppercase letter\"\n",
        "  if not has_lower:\n",
        "    return \"Password does not pass: Must contain at least one lowercase letter\"\n",
        "  if not has_digit:\n",
        "    return \"Password does not pass: Must contain at least one number\"\n",
        "  if not has_special:\n",
        "    return \"Password does not pass: Must contain at least one special character\"\n",
        "\n",
        "  return \"Password passes all requirements\"\n",
        "\n",
        "# Test it immediaty\n",
        "print(check_password_strength(\"Test123!\"))  # Should pass\n",
        "print(check_password_strength(\"weak\"))  # Should fail"
      ],
      "metadata": {
        "colab": {
          "base_uri": "https://localhost:8080/"
        },
        "id": "pj0NCN-U_zBq",
        "outputId": "3894225a-8af9-4e8e-992e-aeb293356b15"
      },
      "execution_count": null,
      "outputs": [
        {
          "output_type": "stream",
          "name": "stdout",
          "text": [
            "Password passes all requirements\n",
            "Password does not pass: Must be at least 8 characters\n"
          ]
        }
      ]
    },
    {
      "cell_type": "markdown",
      "source": [
        "VERSION 2: Check all at once (Simple pass/ fail)"
      ],
      "metadata": {
        "id": "rCetRs3pOb_X"
      }
    },
    {
      "cell_type": "code",
      "source": [
        "# Write a Python script that takes a password as input and checks if it meets the following strength criteria:\n",
        "# At least 8 characters\n",
        "# Contains at least one uppercase letter\n",
        "# Contains at least one lowercase letter\n",
        "# Contains at least one number\n",
        "# Contains at least one special character (e.g. !, @, #)\n",
        "\n",
        "def check_password_strength(password):\n",
        "  # Step 1: Get basic info\n",
        "  length = len(password)\n",
        "\n",
        "  # Step 2: Check for character types\n",
        "  has_upper = any(c.isupper() for c in password)\n",
        "  has_lower = any(c.islower() for c in password)\n",
        "  has_digit = any(c.isdigit() for c in password)\n",
        "  has_special = any(not c.isalnum() for c in password)\n",
        "\n",
        "  # Step 3: Check All requirements at once\n",
        "  if length >= 8 and has_upper and has_lower and has_digit and has_special:\n",
        "    return \"Password passes all requirements\"\n",
        "  else:\n",
        "    return \"Password does not pass all requirements\""
      ],
      "metadata": {
        "id": "EbqJAh1AOlXQ"
      },
      "execution_count": null,
      "outputs": []
    },
    {
      "cell_type": "code",
      "source": [
        "# Main program loop\n",
        "#if __main__ == \" __main__\" :\n",
        "while True:\n",
        "    user_password = input(\"Enter a password to check (or 'exit' to quit): \")\n",
        "    if user_password.lower() == 'exit':\n",
        "      break\n",
        "\n",
        "    strength_report = check_password_strength(user_password)\n",
        "    print(strength_report)"
      ],
      "metadata": {
        "colab": {
          "base_uri": "https://localhost:8080/"
        },
        "id": "Yk-xt7OORUm7",
        "outputId": "4442af12-f116-4b2f-d62a-d207a79f9ded"
      },
      "execution_count": null,
      "outputs": [
        {
          "name": "stdout",
          "output_type": "stream",
          "text": [
            "Enter a password to check (or 'exit' to quit): pandas\n",
            "Password does not pass all requirements\n",
            "Enter a password to check (or 'exit' to quit): mandarin\n",
            "Password does not pass all requirements\n",
            "Enter a password to check (or 'exit' to quit): Mandarin2!\n",
            "Password passes all requirements\n",
            "Enter a password to check (or 'exit' to quit): mandarin!\n",
            "Password does not pass all requirements\n",
            "Enter a password to check (or 'exit' to quit): PANDAS\n",
            "Password does not pass all requirements\n",
            "Enter a password to check (or 'exit' to quit): pandas\n",
            "Password does not pass all requirements\n",
            "Enter a password to check (or 'exit' to quit): Pandas123@\n",
            "Password passes all requirements\n",
            "Enter a password to check (or 'exit' to quit): exit\n"
          ]
        }
      ]
    },
    {
      "cell_type": "markdown",
      "source": [
        "VERSION 3: ✅ More details (Most helpful for users 'Show ALL Problems')"
      ],
      "metadata": {
        "id": "X9iAoHg_SxZZ"
      }
    },
    {
      "cell_type": "code",
      "source": [
        "# Write a Python script that takes a password as input and checks if it meets the following strength criteria:\n",
        "# At least 8 characters\n",
        "# Contains at least one uppercase letter\n",
        "# Contains at least one lowercase letter\n",
        "# Contains at least one number\n",
        "# Contains at least one special character (e.g. !, @, #)\n",
        "\n",
        "def check_password_strength(password):\n",
        "  length = len(password)\n",
        "\n",
        "  has_upper = any(c.isupper() for c in password)\n",
        "  has_lower = any(c.islower() for c in password)\n",
        "  has_digit = any(c.isdigit() for c in password)\n",
        "  has_special = any(not c.isalnum() for c in password)\n",
        "\n",
        "  # Collect all issues\n",
        "  problems = []\n",
        "\n",
        "  if length < 8:\n",
        "    problems.append(\"At least 8 characters\")\n",
        "  if not has_upper:\n",
        "    problems.append(\"At least one uppercase letter\")\n",
        "  if not has_lower:\n",
        "    problems.append(\"At least one lowercase letter\")\n",
        "  if not has_digit:\n",
        "    problems.append(\"At least one number\")\n",
        "  if not has_special:\n",
        "    problems.append(\"At least one special character\")\n",
        "\n",
        "  if len(problems) == 0:\n",
        "    return \"Password passes all requirements\"\n",
        "  else:\n",
        "    return \"Password does not pass. Missing: \" + \", \".join(problems)"
      ],
      "metadata": {
        "id": "-HVtMD9vRxtP"
      },
      "execution_count": null,
      "outputs": []
    },
    {
      "cell_type": "code",
      "source": [
        "# Main program loop\n",
        "while True:\n",
        "  user_password = input(\"Enter a password to check (or 'exit' to quit): \")\n",
        "  if user_password.lower() == 'exit' :\n",
        "    break\n",
        "\n",
        "  strength_report = check_password_strength(user_password)\n",
        "  print(strength_report)"
      ],
      "metadata": {
        "colab": {
          "base_uri": "https://localhost:8080/"
        },
        "id": "IaBwhy7PUfSg",
        "outputId": "8a057538-fb39-40d7-8676-0096fca7ad81"
      },
      "execution_count": null,
      "outputs": [
        {
          "name": "stdout",
          "output_type": "stream",
          "text": [
            "Enter a password to check (or 'exit' to quit): pandas\n",
            "Password does not pass. Missing: At least 8 characters, At least one uppercase letter, At least one number, At least one special character\n",
            "Enter a password to check (or 'exit' to quit): Mandarin\n",
            "Password does not pass. Missing: At least one number, At least one special character\n",
            "Enter a password to check (or 'exit' to quit): mandarin2\n",
            "Password does not pass. Missing: At least one uppercase letter, At least one special character\n",
            "Enter a password to check (or 'exit' to quit): Mandarin@\n",
            "Password does not pass. Missing: At least one number\n",
            "Enter a password to check (or 'exit' to quit): Mandarine32!\n",
            "Password passes all requirements\n",
            "Enter a password to check (or 'exit' to quit): exit\n"
          ]
        }
      ]
    }
  ]
}